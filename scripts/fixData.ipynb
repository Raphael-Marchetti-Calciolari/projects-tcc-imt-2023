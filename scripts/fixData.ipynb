{
 "cells": [
  {
   "cell_type": "code",
   "execution_count": 2,
   "metadata": {},
   "outputs": [],
   "source": [
    "import os\n",
    "import pandas as pd"
   ]
  },
  {
   "cell_type": "code",
   "execution_count": 3,
   "metadata": {},
   "outputs": [],
   "source": [
    "columns_map = {\n",
    "    'Time': 'time',\n",
    "    'Tempo de processo': 'process_time',\n",
    "    'tempo de processo (s)': 'process_time',\n",
    "    'Tempo de processo (s)': 'process_time',\n",
    "    'PT100 1 Celsius': 'sensor_PT100_1',\n",
    "    'PT100 2 Celsius': 'sensor_PT100_2',\n",
    "    'PT100 3 Celsius': 'sensor_PT100_3',\n",
    "    'PT100 4 Celsius': 'sensor_PT100_4',\n",
    "    'Temp. TH 1 Celsius': 'sensor_TH_1',\n",
    "    'Temp. TH 2 Celsius': 'sensor_TH_2',\n",
    "    'Umidade 1 [%]': 'sensor_humidity_1',\n",
    "    'Umidade 2 [%]': 'sensor_humidity_2'\n",
    "}"
   ]
  },
  {
   "cell_type": "code",
   "execution_count": 11,
   "metadata": {},
   "outputs": [],
   "source": [
    "def filter_df(df:pd.DataFrame, output_dir:str, verbose=False):\n",
    "    refactored_dataframe = pd.DataFrame()\n",
    "    df_columns = list(df.columns)\n",
    "\n",
    "    for column in df_columns:\n",
    "        if (column == 'Hora'): pass\n",
    "\n",
    "        elif (column == 'Tempo (min)'):\n",
    "            time_in_seconds = []\n",
    "\n",
    "            for time_in_minutes in df[column]:\n",
    "                number_time = float(time_in_minutes.replace(',', '.'))\n",
    "                time_in_seconds.append(f'{(number_time * 60):.2f}')\n",
    "\n",
    "            refactored_dataframe['process_time'] = pd.Series(time_in_seconds)\n",
    "\n",
    "        else:\n",
    "            mapped_column_name = columns_map[column]\n",
    "            if (mapped_column_name == 'time'):\n",
    "                try:\n",
    "                    for i, time_in_minutes in enumerate(df[column]):\n",
    "                        space_character_index = time_in_minutes.index(' ')\n",
    "                        df[column][i] = time_in_minutes[space_character_index+1:]\n",
    "                except: pass\n",
    "            refactored_dataframe[mapped_column_name] = df[column]\n",
    "    \n",
    "    refactored_dataframe.to_csv(output_dir, sep=';', index=False)\n",
    "    if (verbose): refactored_dataframe.head()\n",
    "    return refactored_dataframe"
   ]
  },
  {
   "cell_type": "code",
   "execution_count": 12,
   "metadata": {},
   "outputs": [
    {
     "name": "stdout",
     "output_type": "stream",
     "text": [
      "Different columns:\n",
      "time\n",
      "process_time\n",
      "sensor_PT100_1\n",
      "sensor_PT100_2\n",
      "sensor_PT100_3\n",
      "sensor_PT100_4\n",
      "sensor_humidity_1\n",
      "sensor_TH_1\n",
      "sensor_humidity_2\n",
      "sensor_TH_2\n"
     ]
    }
   ],
   "source": [
    "directory = '../data/Dados-tratados'\n",
    "df_different_columns = []\n",
    "\n",
    "for filename in os.listdir(directory):\n",
    "    file_path = os.path.join(directory, filename)\n",
    "    exception_files = ['.DS_Store']\n",
    "\n",
    "    if os.path.isfile(file_path) and filename not in '.DS_Store':\n",
    "        df = pd.read_csv(file_path, delimiter=';', on_bad_lines='skip')\n",
    "        # check if destiny dir exists, otherwise create it\n",
    "        new_df = filter_df(df, f'./fixed/{filename}')\n",
    "        for column in new_df.columns:\n",
    "            if (column not in df_different_columns): df_different_columns.append(column)\n",
    "\n",
    "print(\"Different columns:\")\n",
    "for column in df_different_columns:\n",
    "    print(column)"
   ]
  }
 ],
 "metadata": {
  "kernelspec": {
   "display_name": "Python 3",
   "language": "python",
   "name": "python3"
  },
  "language_info": {
   "codemirror_mode": {
    "name": "ipython",
    "version": 3
   },
   "file_extension": ".py",
   "mimetype": "text/x-python",
   "name": "python",
   "nbconvert_exporter": "python",
   "pygments_lexer": "ipython3",
   "version": "3.9.6"
  },
  "orig_nbformat": 4
 },
 "nbformat": 4,
 "nbformat_minor": 2
}

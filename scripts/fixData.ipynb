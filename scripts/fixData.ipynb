{
 "cells": [
  {
   "cell_type": "code",
   "execution_count": 1,
   "metadata": {},
   "outputs": [],
   "source": [
    "import pandas as pd\n",
    "import statsmodels.formula.api as sm\n",
    "import matplotlib.pyplot as plt\n",
    "import seaborn as sns\n",
    "import numpy as np"
   ]
  },
  {
   "cell_type": "code",
   "execution_count": 2,
   "metadata": {},
   "outputs": [
    {
     "data": {
      "text/html": [
       "<div>\n",
       "<style scoped>\n",
       "    .dataframe tbody tr th:only-of-type {\n",
       "        vertical-align: middle;\n",
       "    }\n",
       "\n",
       "    .dataframe tbody tr th {\n",
       "        vertical-align: top;\n",
       "    }\n",
       "\n",
       "    .dataframe thead th {\n",
       "        text-align: right;\n",
       "    }\n",
       "</style>\n",
       "<table border=\"1\" class=\"dataframe\">\n",
       "  <thead>\n",
       "    <tr style=\"text-align: right;\">\n",
       "      <th></th>\n",
       "      <th>time</th>\n",
       "      <th>sensor_PT100_1</th>\n",
       "      <th>sensor_PT100_3</th>\n",
       "      <th>sensor_PT100_4</th>\n",
       "      <th>sensor_humidity_1</th>\n",
       "      <th>sensor_TH_1</th>\n",
       "      <th>sensor_humidity_2</th>\n",
       "      <th>sensor_TH_2</th>\n",
       "      <th>product_humidity</th>\n",
       "      <th>sensor_PT100_2</th>\n",
       "    </tr>\n",
       "    <tr>\n",
       "      <th>ensaio</th>\n",
       "      <th></th>\n",
       "      <th></th>\n",
       "      <th></th>\n",
       "      <th></th>\n",
       "      <th></th>\n",
       "      <th></th>\n",
       "      <th></th>\n",
       "      <th></th>\n",
       "      <th></th>\n",
       "      <th></th>\n",
       "    </tr>\n",
       "  </thead>\n",
       "  <tbody>\n",
       "    <tr>\n",
       "      <th>1</th>\n",
       "      <td>4800.5</td>\n",
       "      <td>40.91</td>\n",
       "      <td>36.32</td>\n",
       "      <td>34.62</td>\n",
       "      <td>53.12</td>\n",
       "      <td>26.06</td>\n",
       "      <td>70.51</td>\n",
       "      <td>32.08</td>\n",
       "      <td>12.74</td>\n",
       "      <td>NaN</td>\n",
       "    </tr>\n",
       "    <tr>\n",
       "      <th>2</th>\n",
       "      <td>3420.0</td>\n",
       "      <td>34.69</td>\n",
       "      <td>33.93</td>\n",
       "      <td>31.42</td>\n",
       "      <td>78.07</td>\n",
       "      <td>21.28</td>\n",
       "      <td>84.45</td>\n",
       "      <td>28.69</td>\n",
       "      <td>17.72</td>\n",
       "      <td>-47.91</td>\n",
       "    </tr>\n",
       "    <tr>\n",
       "      <th>3</th>\n",
       "      <td>4800.0</td>\n",
       "      <td>41.10</td>\n",
       "      <td>54.40</td>\n",
       "      <td>55.13</td>\n",
       "      <td>36.45</td>\n",
       "      <td>33.41</td>\n",
       "      <td>61.56</td>\n",
       "      <td>50.34</td>\n",
       "      <td>12.80</td>\n",
       "      <td>23.50</td>\n",
       "    </tr>\n",
       "    <tr>\n",
       "      <th>4</th>\n",
       "      <td>3480.0</td>\n",
       "      <td>37.32</td>\n",
       "      <td>35.46</td>\n",
       "      <td>35.55</td>\n",
       "      <td>60.89</td>\n",
       "      <td>28.84</td>\n",
       "      <td>79.66</td>\n",
       "      <td>33.73</td>\n",
       "      <td>14.92</td>\n",
       "      <td>17.78</td>\n",
       "    </tr>\n",
       "    <tr>\n",
       "      <th>5</th>\n",
       "      <td>4020.0</td>\n",
       "      <td>38.17</td>\n",
       "      <td>30.77</td>\n",
       "      <td>30.44</td>\n",
       "      <td>57.08</td>\n",
       "      <td>28.32</td>\n",
       "      <td>79.46</td>\n",
       "      <td>29.35</td>\n",
       "      <td>13.90</td>\n",
       "      <td>16.01</td>\n",
       "    </tr>\n",
       "    <tr>\n",
       "      <th>6</th>\n",
       "      <td>4015.5</td>\n",
       "      <td>42.97</td>\n",
       "      <td>48.26</td>\n",
       "      <td>49.02</td>\n",
       "      <td>55.43</td>\n",
       "      <td>28.32</td>\n",
       "      <td>73.54</td>\n",
       "      <td>41.96</td>\n",
       "      <td>10.64</td>\n",
       "      <td>20.62</td>\n",
       "    </tr>\n",
       "    <tr>\n",
       "      <th>7</th>\n",
       "      <td>5220.3</td>\n",
       "      <td>39.25</td>\n",
       "      <td>52.47</td>\n",
       "      <td>46.67</td>\n",
       "      <td>52.24</td>\n",
       "      <td>30.79</td>\n",
       "      <td>64.64</td>\n",
       "      <td>40.06</td>\n",
       "      <td>11.10</td>\n",
       "      <td>20.11</td>\n",
       "    </tr>\n",
       "    <tr>\n",
       "      <th>8</th>\n",
       "      <td>3240.2</td>\n",
       "      <td>41.91</td>\n",
       "      <td>31.73</td>\n",
       "      <td>31.70</td>\n",
       "      <td>72.05</td>\n",
       "      <td>21.64</td>\n",
       "      <td>82.49</td>\n",
       "      <td>30.18</td>\n",
       "      <td>23.83</td>\n",
       "      <td>12.46</td>\n",
       "    </tr>\n",
       "    <tr>\n",
       "      <th>9</th>\n",
       "      <td>4020.0</td>\n",
       "      <td>36.26</td>\n",
       "      <td>33.56</td>\n",
       "      <td>33.53</td>\n",
       "      <td>61.30</td>\n",
       "      <td>25.75</td>\n",
       "      <td>75.19</td>\n",
       "      <td>31.57</td>\n",
       "      <td>12.67</td>\n",
       "      <td>3.09</td>\n",
       "    </tr>\n",
       "    <tr>\n",
       "      <th>10</th>\n",
       "      <td>4020.5</td>\n",
       "      <td>38.65</td>\n",
       "      <td>39.62</td>\n",
       "      <td>37.03</td>\n",
       "      <td>60.27</td>\n",
       "      <td>29.15</td>\n",
       "      <td>75.60</td>\n",
       "      <td>35.48</td>\n",
       "      <td>12.48</td>\n",
       "      <td>-23.95</td>\n",
       "    </tr>\n",
       "    <tr>\n",
       "      <th>11</th>\n",
       "      <td>4020.5</td>\n",
       "      <td>38.59</td>\n",
       "      <td>35.36</td>\n",
       "      <td>35.65</td>\n",
       "      <td>48.90</td>\n",
       "      <td>30.02</td>\n",
       "      <td>72.98</td>\n",
       "      <td>35.32</td>\n",
       "      <td>12.39</td>\n",
       "      <td>-14.80</td>\n",
       "    </tr>\n",
       "    <tr>\n",
       "      <th>12</th>\n",
       "      <td>4020.3</td>\n",
       "      <td>39.55</td>\n",
       "      <td>35.24</td>\n",
       "      <td>35.19</td>\n",
       "      <td>69.48</td>\n",
       "      <td>26.32</td>\n",
       "      <td>76.32</td>\n",
       "      <td>33.52</td>\n",
       "      <td>12.38</td>\n",
       "      <td>17.52</td>\n",
       "    </tr>\n",
       "  </tbody>\n",
       "</table>\n",
       "</div>"
      ],
      "text/plain": [
       "          time  sensor_PT100_1  sensor_PT100_3  sensor_PT100_4   \n",
       "ensaio                                                           \n",
       "1       4800.5           40.91           36.32           34.62  \\\n",
       "2       3420.0           34.69           33.93           31.42   \n",
       "3       4800.0           41.10           54.40           55.13   \n",
       "4       3480.0           37.32           35.46           35.55   \n",
       "5       4020.0           38.17           30.77           30.44   \n",
       "6       4015.5           42.97           48.26           49.02   \n",
       "7       5220.3           39.25           52.47           46.67   \n",
       "8       3240.2           41.91           31.73           31.70   \n",
       "9       4020.0           36.26           33.56           33.53   \n",
       "10      4020.5           38.65           39.62           37.03   \n",
       "11      4020.5           38.59           35.36           35.65   \n",
       "12      4020.3           39.55           35.24           35.19   \n",
       "\n",
       "        sensor_humidity_1  sensor_TH_1  sensor_humidity_2  sensor_TH_2   \n",
       "ensaio                                                                   \n",
       "1                   53.12        26.06              70.51        32.08  \\\n",
       "2                   78.07        21.28              84.45        28.69   \n",
       "3                   36.45        33.41              61.56        50.34   \n",
       "4                   60.89        28.84              79.66        33.73   \n",
       "5                   57.08        28.32              79.46        29.35   \n",
       "6                   55.43        28.32              73.54        41.96   \n",
       "7                   52.24        30.79              64.64        40.06   \n",
       "8                   72.05        21.64              82.49        30.18   \n",
       "9                   61.30        25.75              75.19        31.57   \n",
       "10                  60.27        29.15              75.60        35.48   \n",
       "11                  48.90        30.02              72.98        35.32   \n",
       "12                  69.48        26.32              76.32        33.52   \n",
       "\n",
       "        product_humidity  sensor_PT100_2  \n",
       "ensaio                                    \n",
       "1                  12.74             NaN  \n",
       "2                  17.72          -47.91  \n",
       "3                  12.80           23.50  \n",
       "4                  14.92           17.78  \n",
       "5                  13.90           16.01  \n",
       "6                  10.64           20.62  \n",
       "7                  11.10           20.11  \n",
       "8                  23.83           12.46  \n",
       "9                  12.67            3.09  \n",
       "10                 12.48          -23.95  \n",
       "11                 12.39          -14.80  \n",
       "12                 12.38           17.52  "
      ]
     },
     "execution_count": 2,
     "metadata": {},
     "output_type": "execute_result"
    }
   ],
   "source": [
    "file_path = '../data/Dados-Processo-tratados/todos_ensaios.csv'\n",
    "\n",
    "df = pd.read_csv(file_path, delimiter=';', on_bad_lines='skip')\n",
    "df.groupby('ensaio').max()"
   ]
  },
  {
   "cell_type": "code",
   "execution_count": 3,
   "metadata": {},
   "outputs": [],
   "source": [
    "# sns.pairplot(df)"
   ]
  },
  {
   "cell_type": "code",
   "execution_count": 4,
   "metadata": {},
   "outputs": [
    {
     "name": "stdout",
     "output_type": "stream",
     "text": [
      "                            OLS Regression Results                            \n",
      "==============================================================================\n",
      "Dep. Variable:       product_humidity   R-squared:                       0.618\n",
      "Model:                            OLS   Adj. R-squared:                  0.554\n",
      "Method:                 Least Squares   F-statistic:                     9.699\n",
      "Date:                Thu, 18 May 2023   Prob (F-statistic):           2.16e-09\n",
      "Time:                        15:30:41   Log-Likelihood:                -157.24\n",
      "No. Observations:                  71   AIC:                             336.5\n",
      "Df Residuals:                      60   BIC:                             361.4\n",
      "Df Model:                          10                                         \n",
      "Covariance Type:            nonrobust                                         \n",
      "=====================================================================================\n",
      "                        coef    std err          t      P>|t|      [0.025      0.975]\n",
      "-------------------------------------------------------------------------------------\n",
      "Intercept            43.0184     17.680      2.433      0.018       7.653      78.384\n",
      "time                  0.0001      0.000      0.348      0.729      -0.001       0.001\n",
      "sensor_PT100_1        0.0464      0.238      0.195      0.846      -0.430       0.523\n",
      "sensor_PT100_3        0.4520      0.222      2.039      0.046       0.008       0.895\n",
      "sensor_PT100_4       -1.1066      0.413     -2.677      0.010      -1.933      -0.280\n",
      "sensor_humidity_1    -0.1412      0.086     -1.641      0.106      -0.313       0.031\n",
      "sensor_TH_1          -1.3507      0.383     -3.531      0.001      -2.116      -0.585\n",
      "sensor_humidity_2     0.0862      0.055      1.578      0.120      -0.023       0.196\n",
      "sensor_TH_2           0.8433      0.321      2.630      0.011       0.202       1.485\n",
      "ensaio               -0.1471      0.124     -1.184      0.241      -0.396       0.101\n",
      "sensor_PT100_2        0.0289      0.021      1.353      0.181      -0.014       0.072\n",
      "==============================================================================\n",
      "Omnibus:                        2.739   Durbin-Watson:                   0.957\n",
      "Prob(Omnibus):                  0.254   Jarque-Bera (JB):                1.959\n",
      "Skew:                           0.297   Prob(JB):                        0.376\n",
      "Kurtosis:                       3.557   Cond. No.                     1.73e+05\n",
      "==============================================================================\n",
      "\n",
      "Notes:\n",
      "[1] Standard Errors assume that the covariance matrix of the errors is correctly specified.\n",
      "[2] The condition number is large, 1.73e+05. This might indicate that there are\n",
      "strong multicollinearity or other numerical problems.\n"
     ]
    }
   ],
   "source": [
    "y = 'product_humidity'\n",
    "X = list(df.columns)\n",
    "X.pop(X.index(y))\n",
    "\n",
    "exception_list = []\n",
    "\n",
    "formula = y + ' ~ '\n",
    "for i, col in enumerate(X):\n",
    "    if (col in exception_list): continue\n",
    "    if (i == 0): formula += col\n",
    "    else: formula += f' + {col}'\n",
    "\n",
    "lm = sm.ols(formula=formula, data=df)\n",
    "lm = lm.fit()\n",
    "print(lm.summary())"
   ]
  },
  {
   "cell_type": "code",
   "execution_count": 5,
   "metadata": {},
   "outputs": [
    {
     "data": {
      "text/plain": [
       "-62.52381461739071"
      ]
     },
     "execution_count": 5,
     "metadata": {},
     "output_type": "execute_result"
    }
   ],
   "source": [
    "from sklearn.neural_network import MLPRegressor\n",
    "\n",
    "# Assuming you have your X and y data\n",
    "x_data = df[X].drop(columns=['sensor_PT100_2', 'ensaio'])\n",
    "y_data = df[y]\n",
    "\n",
    "# Create the MLPRegressor and fit the data\n",
    "mlp = MLPRegressor()\n",
    "mlp.fit(x_data, y_data)\n",
    "\n",
    "mlp.score(x_data, y_data)\n"
   ]
  },
  {
   "cell_type": "code",
   "execution_count": 6,
   "metadata": {},
   "outputs": [
    {
     "name": "stdout",
     "output_type": "stream",
     "text": [
      "Mean of Residuals: -26.18190129868592\n"
     ]
    },
    {
     "data": {
      "image/png": "[encoded data removed]",
      "text/plain": [
       "<Figure size 640x480 with 1 Axes>"
      ]
     },
     "metadata": {},
     "output_type": "display_data"
    }
   ],
   "source": [
    "residuals = y_data - mlp.predict(x_data)\n",
    "mean_residuals = np.mean(residuals)\n",
    "print(\"Mean of Residuals:\", mean_residuals)\n",
    "# Plot histogram of residuals\n",
    "plt.hist(residuals, bins=20)\n",
    "plt.xlabel(\"Residuals\")\n",
    "plt.ylabel(\"Frequency\")\n",
    "plt.title(\"Residual Distribution\")\n",
    "plt.show()"
   ]
  },
  {
   "cell_type": "code",
   "execution_count": 7,
   "metadata": {},
   "outputs": [
    {
     "data": {
      "image/png": "[encoded data removed]",
      "text/plain": [
       "<Figure size 640x480 with 1 Axes>"
      ]
     },
     "metadata": {},
     "output_type": "display_data"
    }
   ],
   "source": [
    "plt.scatter(mlp.predict(x_data), residuals)\n",
    "plt.axhline(y=0, color='r', linestyle='--')\n",
    "plt.xlabel(\"Predicted Values\")\n",
    "plt.ylabel(\"Residuals\")\n",
    "plt.title(\"Residuals vs. Predicted Values\")\n",
    "plt.show()"
   ]
  },
  {
   "cell_type": "code",
   "execution_count": 41,
   "metadata": {},
   "outputs": [
    {
     "name": "stdout",
     "output_type": "stream",
     "text": [
      "Progress: 0.00%\n",
      "Progress: 8.33%\n",
      "Progress: 16.67%\n",
      "Progress: 25.00%\n",
      "Progress: 33.33%\n",
      "Progress: 41.67%\n",
      "Progress: 50.00%\n",
      "Progress: 58.33%\n",
      "Progress: 66.67%\n",
      "Progress: 75.00%\n",
      "Progress: 83.33%\n",
      "Progress: 91.67%\n"
     ]
    }
   ],
   "source": [
    "from sklearn.neural_network import MLPRegressor\n",
    "\n",
    "tries = 300\n",
    "max_score = 0\n",
    "best_model = ''\n",
    "\n",
    "for i in range(tries):\n",
    "    if (i%25 == 0): print(f'Progress: {i/tries*100:.2f}%')\n",
    "    # Create the MLPRegressor with multiple hidden layers and more hidden units\n",
    "    mlp = MLPRegressor(\n",
    "        hidden_layer_sizes=[200,200,200],\n",
    "        activation='tanh',\n",
    "        solver='adam',\n",
    "        max_iter=int(1e4))\n",
    "\n",
    "    # Train the neural network\n",
    "    mlp.fit(x_data, y_data)\n",
    "\n",
    "    # Make predictions on the test set\n",
    "    y_pred = mlp.predict(x_data)\n",
    "\n",
    "    score = mlp.score(x_data, y_data)\n",
    "    if (max_score < score): \n",
    "        max_score = score\n",
    "        best_model = mlp"
   ]
  },
  {
   "cell_type": "code",
   "execution_count": 42,
   "metadata": {},
   "outputs": [
    {
     "name": "stdout",
     "output_type": "stream",
     "text": [
      "Is 87.65% right\n"
     ]
    }
   ],
   "source": [
    "print(f'Is {max_score*100:.2f}% right')"
   ]
  },
  {
   "cell_type": "code",
   "execution_count": 46,
   "metadata": {},
   "outputs": [
    {
     "name": "stdout",
     "output_type": "stream",
     "text": [
      "Mean of Residuals: -0.2304020265242723\n"
     ]
    },
    {
     "data": {
      "image/png": "[encoded data removed]",
      "text/plain": [
       "<Figure size 640x480 with 1 Axes>"
      ]
     },
     "metadata": {},
     "output_type": "display_data"
    }
   ],
   "source": [
    "residuals = y_data - best_model.predict(x_data)\n",
    "mean_residuals = np.mean(residuals)\n",
    "print(\"Mean of Residuals:\", mean_residuals)\n",
    "# Plot histogram of residuals\n",
    "plt.hist(residuals, bins=30)\n",
    "plt.xlabel(\"Residuals\")\n",
    "plt.ylabel(\"Frequency\")\n",
    "plt.title(\"Residual Distribution\")\n",
    "plt.show()"
   ]
  },
  {
   "cell_type": "code",
   "execution_count": 47,
   "metadata": {},
   "outputs": [
    {
     "data": {
      "image/png": "[encoded data removed]",
      "text/plain": [
       "<Figure size 640x480 with 1 Axes>"
      ]
     },
     "metadata": {},
     "output_type": "display_data"
    }
   ],
   "source": [
    "plt.scatter(best_model.predict(x_data), residuals)\n",
    "plt.axhline(y=0, color='r', linestyle='--')\n",
    "plt.xlabel(\"Predicted Values\")\n",
    "plt.ylabel(\"Residuals\")\n",
    "plt.title(\"Residuals vs. Predicted Values\")\n",
    "plt.show()"
   ]
  }
 ],
 "metadata": {
  "kernelspec": {
   "display_name": "Python 3",
   "language": "python",
   "name": "python3"
  },
  "language_info": {
   "codemirror_mode": {
    "name": "ipython",
    "version": 3
   },
   "file_extension": ".py",
   "mimetype": "text/x-python",
   "name": "python",
   "nbconvert_exporter": "python",
   "pygments_lexer": "ipython3",
   "version": "3.9.13"
  },
  "orig_nbformat": 4
 },
 "nbformat": 4,
 "nbformat_minor": 2
}

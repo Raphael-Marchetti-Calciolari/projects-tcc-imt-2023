{
 "cells": [
  {
   "attachments": {},
   "cell_type": "markdown",
   "metadata": {},
   "source": [
    "# Basic imports"
   ]
  },
  {
   "cell_type": "code",
   "execution_count": 20,
   "metadata": {},
   "outputs": [],
   "source": [
    "import matplotlib.pyplot as plt\n",
    "import numpy as np"
   ]
  },
  {
   "attachments": {},
   "cell_type": "markdown",
   "metadata": {},
   "source": [
    "# Reading data"
   ]
  },
  {
   "cell_type": "code",
   "execution_count": 11,
   "metadata": {},
   "outputs": [
    {
     "data": {
      "text/html": [
       "<div>\n",
       "<style scoped>\n",
       "    .dataframe tbody tr th:only-of-type {\n",
       "        vertical-align: middle;\n",
       "    }\n",
       "\n",
       "    .dataframe tbody tr th {\n",
       "        vertical-align: top;\n",
       "    }\n",
       "\n",
       "    .dataframe thead th {\n",
       "        text-align: right;\n",
       "    }\n",
       "</style>\n",
       "<table border=\"1\" class=\"dataframe\">\n",
       "  <thead>\n",
       "    <tr style=\"text-align: right;\">\n",
       "      <th></th>\n",
       "      <th>time</th>\n",
       "      <th>sensor_PT100_1</th>\n",
       "      <th>sensor_PT100_3</th>\n",
       "      <th>sensor_PT100_4</th>\n",
       "      <th>sensor_humidity_1</th>\n",
       "      <th>sensor_TH_1</th>\n",
       "      <th>sensor_humidity_2</th>\n",
       "      <th>sensor_TH_2</th>\n",
       "      <th>product_humidity</th>\n",
       "      <th>ensaio</th>\n",
       "    </tr>\n",
       "  </thead>\n",
       "  <tbody>\n",
       "    <tr>\n",
       "      <th>0</th>\n",
       "      <td>600.6</td>\n",
       "      <td>39.68</td>\n",
       "      <td>31.51</td>\n",
       "      <td>29.41</td>\n",
       "      <td>53.12</td>\n",
       "      <td>25.65</td>\n",
       "      <td>62.89</td>\n",
       "      <td>28.63</td>\n",
       "      <td>9.06</td>\n",
       "      <td>1</td>\n",
       "    </tr>\n",
       "    <tr>\n",
       "      <th>1</th>\n",
       "      <td>1200.6</td>\n",
       "      <td>40.24</td>\n",
       "      <td>31.91</td>\n",
       "      <td>29.92</td>\n",
       "      <td>52.55</td>\n",
       "      <td>25.80</td>\n",
       "      <td>67.16</td>\n",
       "      <td>28.84</td>\n",
       "      <td>11.91</td>\n",
       "      <td>1</td>\n",
       "    </tr>\n",
       "    <tr>\n",
       "      <th>2</th>\n",
       "      <td>1800.6</td>\n",
       "      <td>40.50</td>\n",
       "      <td>32.37</td>\n",
       "      <td>30.42</td>\n",
       "      <td>50.50</td>\n",
       "      <td>25.80</td>\n",
       "      <td>69.79</td>\n",
       "      <td>29.56</td>\n",
       "      <td>12.74</td>\n",
       "      <td>1</td>\n",
       "    </tr>\n",
       "    <tr>\n",
       "      <th>3</th>\n",
       "      <td>2400.6</td>\n",
       "      <td>40.67</td>\n",
       "      <td>33.11</td>\n",
       "      <td>31.22</td>\n",
       "      <td>50.34</td>\n",
       "      <td>25.85</td>\n",
       "      <td>70.51</td>\n",
       "      <td>29.56</td>\n",
       "      <td>12.33</td>\n",
       "      <td>1</td>\n",
       "    </tr>\n",
       "    <tr>\n",
       "      <th>4</th>\n",
       "      <td>3000.6</td>\n",
       "      <td>40.72</td>\n",
       "      <td>33.84</td>\n",
       "      <td>31.96</td>\n",
       "      <td>49.16</td>\n",
       "      <td>25.96</td>\n",
       "      <td>67.88</td>\n",
       "      <td>30.18</td>\n",
       "      <td>9.00</td>\n",
       "      <td>1</td>\n",
       "    </tr>\n",
       "  </tbody>\n",
       "</table>\n",
       "</div>"
      ],
      "text/plain": [
       "     time  sensor_PT100_1  sensor_PT100_3  sensor_PT100_4  sensor_humidity_1  \\\n",
       "0   600.6           39.68           31.51           29.41              53.12   \n",
       "1  1200.6           40.24           31.91           29.92              52.55   \n",
       "2  1800.6           40.50           32.37           30.42              50.50   \n",
       "3  2400.6           40.67           33.11           31.22              50.34   \n",
       "4  3000.6           40.72           33.84           31.96              49.16   \n",
       "\n",
       "   sensor_TH_1  sensor_humidity_2  sensor_TH_2  product_humidity  ensaio  \n",
       "0        25.65              62.89        28.63              9.06       1  \n",
       "1        25.80              67.16        28.84             11.91       1  \n",
       "2        25.80              69.79        29.56             12.74       1  \n",
       "3        25.85              70.51        29.56             12.33       1  \n",
       "4        25.96              67.88        30.18              9.00       1  "
      ]
     },
     "execution_count": 11,
     "metadata": {},
     "output_type": "execute_result"
    }
   ],
   "source": [
    "from dataController import DataController\n",
    "\n",
    "data_path = '../data/Dados-Processo-tratados/todos_ensaios_corrigidos.csv'\n",
    "data_controller = DataController(data_path)\n",
    "data_controller.df.head()"
   ]
  },
  {
   "cell_type": "code",
   "execution_count": 12,
   "metadata": {},
   "outputs": [],
   "source": [
    "from sklearn.model_selection import train_test_split\n",
    "\n",
    "interest_column = 'product_humidity'\n",
    "columns_to_drop = ['ensaio', 'time']\n",
    "\n",
    "X, y = data_controller.get_X_y_datasets(interest_column, columns_to_drop)\n",
    "X_train, X_test, y_train, y_test = train_test_split(X, y, test_size=0.3, random_state=42)"
   ]
  },
  {
   "attachments": {},
   "cell_type": "markdown",
   "metadata": {},
   "source": [
    "# Models implementation"
   ]
  },
  {
   "attachments": {},
   "cell_type": "markdown",
   "metadata": {},
   "source": [
    "### Metrics import and functions"
   ]
  },
  {
   "cell_type": "code",
   "execution_count": 16,
   "metadata": {},
   "outputs": [],
   "source": [
    "from sklearn.metrics import mean_squared_error\n",
    "from sklearn.metrics import r2_score"
   ]
  },
  {
   "cell_type": "code",
   "execution_count": 27,
   "metadata": {},
   "outputs": [],
   "source": [
    "def model_residual_distribution(y_true, y_pred):\n",
    "    residuals = y_true - y_pred\n",
    "    mean_residuals = np.mean(residuals)\n",
    "    plt.hist(residuals, bins=30)\n",
    "    plt.xlabel(\"Residuals\")\n",
    "    plt.ylabel(\"Frequency\")\n",
    "    plt.title(f\"Residual Distribution graph. Mean = {mean_residuals:.2f}\")\n",
    "    plt.show()"
   ]
  },
  {
   "attachments": {},
   "cell_type": "markdown",
   "metadata": {},
   "source": [
    "### Support Vector Machine - Regressor"
   ]
  },
  {
   "cell_type": "code",
   "execution_count": 36,
   "metadata": {},
   "outputs": [
    {
     "name": "stdout",
     "output_type": "stream",
     "text": [
      "Mean Squared Error (MSE) lower = better\n",
      "R square higher = better\n",
      "Score higher = better\n",
      "\n",
      "MSE\t\t3.20\n",
      "R square\t0.57\n",
      "Score\t\t57.25%\n"
     ]
    },
    {
     "data": {
      "image/png": "[encoded data removed]",
      "text/plain": [
       "<Figure size 640x480 with 1 Axes>"
      ]
     },
     "metadata": {},
     "output_type": "display_data"
    }
   ],
   "source": [
    "from sklearn.svm import SVR\n",
    "\n",
    "model = SVR()\n",
    "model.fit(X_train, y_train)\n",
    "\n",
    "y_pred = model.predict(X_test)\n",
    "print('Mean Squared Error (MSE) lower = better\\nR square higher = better\\nScore higher = better\\n')\n",
    "print(f'MSE\\t\\t{mean_squared_error(y_test, y_pred):.2f}')\n",
    "print(f'R square\\t{r2_score(y_test, y_pred):.2f}')\n",
    "print(f'Score\\t\\t{model.score(X_test, y_test) * 100:.2f}%')\n",
    "\n",
    "model_residual_distribution(y_test, y_pred)"
   ]
  }
 ],
 "metadata": {
  "kernelspec": {
   "display_name": "venv",
   "language": "python",
   "name": "python3"
  },
  "language_info": {
   "codemirror_mode": {
    "name": "ipython",
    "version": 3
   },
   "file_extension": ".py",
   "mimetype": "text/x-python",
   "name": "python",
   "nbconvert_exporter": "python",
   "pygments_lexer": "ipython3",
   "version": "3.10.11"
  },
  "orig_nbformat": 4
 },
 "nbformat": 4,
 "nbformat_minor": 2
}

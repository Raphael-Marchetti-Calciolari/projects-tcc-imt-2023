{
 "cells": [
  {
   "cell_type": "code",
   "execution_count": 1,
   "metadata": {},
   "outputs": [
    {
     "name": "stdout",
     "output_type": "stream",
     "text": [
      "../data/collected_data/09_06_2023/UE00_60_min_09062023.xlsx\n",
      "../data/collected_data/09_06_2023/UE00_0_min_09062023.xlsx\n",
      "../data/collected_data/09_06_2023/UE00_30_min_09062023.xlsx\n",
      "../data/collected_data/09_06_2023/UE00_15_min_09062023.xlsx\n",
      "../data/collected_data/09_06_2023/E00_09062023.xlsx\n",
      "../data/collected_data/09_06_2023/UE00_45_min_09062023.xlsx\n"
     ]
    }
   ],
   "source": [
    "import os\n",
    "\n",
    "data_path = '../data/collected_data/09_06_2023'\n",
    "\n",
    "for filename in os.listdir(data_path):\n",
    "\tf = os.path.join(data_path, filename)\n",
    "\tif os.path.isfile(f):\n",
    "\t\tprint(f)\n"
   ]
  }
 ],
 "metadata": {
  "kernelspec": {
   "display_name": "venv",
   "language": "python",
   "name": "python3"
  },
  "language_info": {
   "codemirror_mode": {
    "name": "ipython",
    "version": 3
   },
   "file_extension": ".py",
   "mimetype": "text/x-python",
   "name": "python",
   "nbconvert_exporter": "python",
   "pygments_lexer": "ipython3",
   "version": "3.9.6"
  },
  "orig_nbformat": 4
 },
 "nbformat": 4,
 "nbformat_minor": 2
}
